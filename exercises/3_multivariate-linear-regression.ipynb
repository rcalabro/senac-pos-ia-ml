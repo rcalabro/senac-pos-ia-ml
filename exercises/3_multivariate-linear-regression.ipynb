{
  "cells": [
    {
      "cell_type": "markdown",
      "metadata": {},
      "source": [
        "### Centro Universitário Senac  \n",
        "**Professor:** Rafael Cóbe  \n",
        "**Disciplina:** Introdução ao Aprendizado de Máquina  \n",
        "\n",
        "### Exercício 3 - **Regressão Linear Multivariada**\n",
        "\n",
        "### Autores\n",
        "**Renato Calabro (calabro@live.com)**\n",
        "**Ágata Oliveira (agata.aso@hotmail.com)**"
      ]
    },
    {
      "cell_type": "code",
      "execution_count": null,
      "metadata": {
        "colab": {
          "base_uri": "https://localhost:8080/"
        },
        "id": "T2EFiXD-Ia8n",
        "outputId": "0dc5b2fd-364b-4748-948c-a253e303f1c7"
      },
      "outputs": [],
      "source": [
        "!../.venv/bin/python --version\n",
        "%pip install -r ../requirements.txt\n",
        "# %pip install numpy pandas matplotlib seaborn scikit-learn ipkernel\n",
        "# %pip freeze > requirements.txt\n",
        "%pip install gdown"
      ]
    },
    {
      "cell_type": "code",
      "execution_count": null,
      "metadata": {
        "colab": {
          "base_uri": "https://localhost:8080/"
        },
        "id": "pnYIzuyLIdrb",
        "outputId": "82c99ff9-e68b-45a2-edbe-ca9ffd4ec3e1"
      },
      "outputs": [],
      "source": [
        "# !mkdir -p data/\n",
        "# !gdown https://drive.google.com/uc?id=1zcsUU6neakc2_BnATvvsLekvMyz1cztM -O data/\n",
        "# !gdown https://drive.google.com/uc?id=1zZdavmX2Zlhfe9up-25rXvE3v0HF9Ajd -O data/\n",
        "\n",
        "# baixados manualmente para trabalhar fora do ambiente do Colab autenticado"
      ]
    },
    {
      "cell_type": "code",
      "execution_count": 2,
      "metadata": {},
      "outputs": [],
      "source": [
        "import math\n",
        "import pandas as pd\n",
        "import matplotlib.pyplot as plt\n",
        "\n",
        "from sklearn.linear_model import LinearRegression\n",
        "from sklearn.neighbors import KNeighborsRegressor\n",
        "from sklearn.metrics import mean_squared_error, r2_score\n",
        "from sklearn.model_selection import train_test_split"
      ]
    },
    {
      "cell_type": "code",
      "execution_count": 3,
      "metadata": {},
      "outputs": [],
      "source": [
        "from pathlib import Path\n",
        "\n",
        "base_path = Path(\"../datasets/regression_data\")"
      ]
    },
    {
      "cell_type": "code",
      "execution_count": 5,
      "metadata": {},
      "outputs": [
        {
          "data": {
            "text/html": [
              "<div>\n",
              "<style scoped>\n",
              "    .dataframe tbody tr th:only-of-type {\n",
              "        vertical-align: middle;\n",
              "    }\n",
              "\n",
              "    .dataframe tbody tr th {\n",
              "        vertical-align: top;\n",
              "    }\n",
              "\n",
              "    .dataframe thead th {\n",
              "        text-align: right;\n",
              "    }\n",
              "</style>\n",
              "<table border=\"1\" class=\"dataframe\">\n",
              "  <thead>\n",
              "    <tr style=\"text-align: right;\">\n",
              "      <th></th>\n",
              "      <th>id</th>\n",
              "      <th>TV</th>\n",
              "      <th>radio</th>\n",
              "      <th>newspaper</th>\n",
              "      <th>sales</th>\n",
              "    </tr>\n",
              "  </thead>\n",
              "  <tbody>\n",
              "    <tr>\n",
              "      <th>0</th>\n",
              "      <td>1</td>\n",
              "      <td>230.1</td>\n",
              "      <td>37.8</td>\n",
              "      <td>69.2</td>\n",
              "      <td>22.1</td>\n",
              "    </tr>\n",
              "    <tr>\n",
              "      <th>1</th>\n",
              "      <td>2</td>\n",
              "      <td>44.5</td>\n",
              "      <td>39.3</td>\n",
              "      <td>45.1</td>\n",
              "      <td>10.4</td>\n",
              "    </tr>\n",
              "    <tr>\n",
              "      <th>2</th>\n",
              "      <td>3</td>\n",
              "      <td>17.2</td>\n",
              "      <td>45.9</td>\n",
              "      <td>69.3</td>\n",
              "      <td>9.3</td>\n",
              "    </tr>\n",
              "    <tr>\n",
              "      <th>3</th>\n",
              "      <td>4</td>\n",
              "      <td>151.5</td>\n",
              "      <td>41.3</td>\n",
              "      <td>58.5</td>\n",
              "      <td>18.5</td>\n",
              "    </tr>\n",
              "    <tr>\n",
              "      <th>4</th>\n",
              "      <td>5</td>\n",
              "      <td>180.8</td>\n",
              "      <td>10.8</td>\n",
              "      <td>58.4</td>\n",
              "      <td>12.9</td>\n",
              "    </tr>\n",
              "  </tbody>\n",
              "</table>\n",
              "</div>"
            ],
            "text/plain": [
              "   id     TV  radio  newspaper  sales\n",
              "0   1  230.1   37.8       69.2   22.1\n",
              "1   2   44.5   39.3       45.1   10.4\n",
              "2   3   17.2   45.9       69.3    9.3\n",
              "3   4  151.5   41.3       58.5   18.5\n",
              "4   5  180.8   10.8       58.4   12.9"
            ]
          },
          "metadata": {},
          "output_type": "display_data"
        }
      ],
      "source": [
        "advertising_file = base_path / \"Advertising.csv\"\n",
        "\n",
        "if advertising_file.exists():\n",
        "    df_advertising = pd.read_csv(\n",
        "        advertising_file,\n",
        "        sep=',',\n",
        "    )\n",
        "    df_advertising.rename(columns={df_advertising.columns[0]: 'id'}, inplace=True)\n",
        "    display(df_advertising.head())\n",
        "else:\n",
        "    print(f\"Arquivo não encontrado: {advertising_file.resolve()}\")"
      ]
    },
    {
      "cell_type": "code",
      "execution_count": 6,
      "metadata": {},
      "outputs": [
        {
          "data": {
            "text/html": [
              "<div>\n",
              "<style scoped>\n",
              "    .dataframe tbody tr th:only-of-type {\n",
              "        vertical-align: middle;\n",
              "    }\n",
              "\n",
              "    .dataframe tbody tr th {\n",
              "        vertical-align: top;\n",
              "    }\n",
              "\n",
              "    .dataframe thead th {\n",
              "        text-align: right;\n",
              "    }\n",
              "</style>\n",
              "<table border=\"1\" class=\"dataframe\">\n",
              "  <thead>\n",
              "    <tr style=\"text-align: right;\">\n",
              "      <th></th>\n",
              "      <th>tamanho</th>\n",
              "      <th>quartos</th>\n",
              "      <th>preco</th>\n",
              "    </tr>\n",
              "  </thead>\n",
              "  <tbody>\n",
              "    <tr>\n",
              "      <th>0</th>\n",
              "      <td>2104</td>\n",
              "      <td>3</td>\n",
              "      <td>399900</td>\n",
              "    </tr>\n",
              "    <tr>\n",
              "      <th>1</th>\n",
              "      <td>1600</td>\n",
              "      <td>3</td>\n",
              "      <td>329900</td>\n",
              "    </tr>\n",
              "    <tr>\n",
              "      <th>2</th>\n",
              "      <td>2400</td>\n",
              "      <td>3</td>\n",
              "      <td>369000</td>\n",
              "    </tr>\n",
              "    <tr>\n",
              "      <th>3</th>\n",
              "      <td>1416</td>\n",
              "      <td>2</td>\n",
              "      <td>232000</td>\n",
              "    </tr>\n",
              "    <tr>\n",
              "      <th>4</th>\n",
              "      <td>3000</td>\n",
              "      <td>4</td>\n",
              "      <td>539900</td>\n",
              "    </tr>\n",
              "  </tbody>\n",
              "</table>\n",
              "</div>"
            ],
            "text/plain": [
              "   tamanho  quartos   preco\n",
              "0     2104        3  399900\n",
              "1     1600        3  329900\n",
              "2     2400        3  369000\n",
              "3     1416        2  232000\n",
              "4     3000        4  539900"
            ]
          },
          "metadata": {},
          "output_type": "display_data"
        }
      ],
      "source": [
        "house_prices_file = base_path / \"Portland_housePrices.csv\"\n",
        "\n",
        "if house_prices_file.exists():\n",
        "    df_houses = pd.read_csv(\n",
        "        house_prices_file,\n",
        "        sep=',',\n",
        "    )\n",
        "    display(df_houses.head())\n",
        "else:\n",
        "    print(f\"Arquivo não encontrado: {house_prices_file.resolve()}\")"
      ]
    },
    {
      "cell_type": "markdown",
      "metadata": {
        "id": "vNAIPEbSEkGR"
      },
      "source": [
        "#### Para cada um dos conjuntos de treinamento, utilize a função <i>fit</i> múltiplas vezes considerando apenas <i>um</i> atributo preditor.\n",
        "\n",
        "1) O modelo aprendido muda a cada vez que a função <i>fit</i> é utilizada?\n",
        "\n",
        "2) Os modelos finais aprendidos são os mesmos da outra implementação de regressão linear?\n"
      ]
    },
    {
      "cell_type": "code",
      "execution_count": null,
      "metadata": {
        "id": "ea0TfMSFEkGS"
      },
      "outputs": [
        {
          "name": "stdout",
          "output_type": "stream",
          "text": [
            "Linear Regression - Iteration 1\n",
            "Coefficients: [[0.04753664]]\n",
            "MSE: 10.512652915656757\n",
            "R2: 0.611875050850071\n",
            "Linear Regression - Iteration 2\n",
            "Coefficients: [[0.04753664]]\n",
            "MSE: 10.512652915656757\n",
            "R2: 0.611875050850071\n",
            "Linear Regression - Iteration 3\n",
            "Coefficients: [[0.04753664]]\n",
            "MSE: 10.512652915656757\n",
            "R2: 0.611875050850071\n"
          ]
        }
      ],
      "source": [
        "# Advertising dataset\n",
        "df_advertising_train = df_advertising.drop(columns=['id'], inplace=False)\n",
        "X = df_advertising_train[['TV']]\n",
        "y = df_advertising_train[['sales']]\n",
        "\n",
        "for i in range(3):\n",
        "    lr_model = LinearRegression()\n",
        "    lr_model.fit(X, y)\n",
        "    y_pred = lr_model.predict(X)\n",
        "\n",
        "    print(f\"Linear Regression - Iteration {i+1}\")\n",
        "    print(\"Coefficients:\", lr_model.coef_)\n",
        "    print(\"MSE:\", mean_squared_error(y, y_pred))\n",
        "    print(\"R2:\", r2_score(y, y_pred))"
      ]
    },
    {
      "cell_type": "markdown",
      "metadata": {},
      "source": [
        "**Não, o modelo não muda se a função `fit` for utilizada múltiplas vezes com o mesmo atributo e os mesmos dados.**  \n",
        "A regressão linear é um modelo determinístico, ou seja, dado um conjunto fixo de dados de entrada e saída, o resultado dos coeficientes será sempre o mesmo.\n",
        "\n",
        "A equação que define os coeficientes é:\n",
        "\n",
        "**Θ = (Xᵀ · X)⁻¹ · Xᵀ · Y**\n",
        "\n",
        "Como `X` e `Y` não mudam entre as chamadas, a matriz resultante também não muda, e os coeficientes calculados permanecem iguais.  \n",
        "Portanto, o modelo aprendido não se altera entre execuções repetidas com os mesmos dados."
      ]
    },
    {
      "cell_type": "markdown",
      "metadata": {
        "id": "vP2mDQUrEkGS"
      },
      "source": [
        "#### Aprenda modelos utilizando todos os atributos de entrada.\n",
        "\n",
        "1) Baseado no RSS e no R^2, é possível obter um modelo melhor utilizando todos os dados?\n",
        "\n",
        "2) Existem atributos que poderiam ser desconsiderados sem que fosse afetada a precisão?\n",
        "\n",
        "3) Qual implementação treina mais rápido? A com método dos mínimos quadrados ou a com descida de gradiente?\n"
      ]
    },
    {
      "cell_type": "code",
      "execution_count": null,
      "metadata": {
        "id": "WjzH_WBTEkGS"
      },
      "outputs": [],
      "source": []
    },
    {
      "cell_type": "markdown",
      "metadata": {
        "id": "Y0egKHuIEkGT"
      },
      "source": [
        "#### Realizar a análise da qualidade dos preditores utilizados no modelo construído.\n",
        "\n",
        "1) Construir o plot de resíduos. Será que os resíduos estão aleatoriamente distribuídos ao redor de 0?\n",
        "\n",
        "2) Calcular os valores p para os preditores utilizados no modelo de regressão. Utilize [esse link](https://stackoverflow.com/a/42677750) como referência. Utilizar essa técnica para selecionar variáveis preditivas. Comparar o desempenho do modelo construído a partir de variáveis preditivas com melhores valores p com um modelo que contêm todas as variáveis.\n"
      ]
    },
    {
      "cell_type": "code",
      "execution_count": null,
      "metadata": {
        "id": "VQMn_MwVEkGT"
      },
      "outputs": [],
      "source": []
    },
    {
      "cell_type": "markdown",
      "metadata": {
        "id": "ZzndloGEEkGT"
      },
      "source": [
        "#### Realizar o teste para descobrir multicolinearidade entre variáveis preditivas;\n",
        "\n",
        "1) Utilizando [esse link](https://www.geeksforgeeks.org/detecting-multicollinearity-with-vif-python/) fazer o cáclulo do fator de inflação da variância (*Variance Inflation Factor - VIF*). Existe alguma evidência de multicolinearidade entre as variáveis preditivas?"
      ]
    },
    {
      "cell_type": "code",
      "execution_count": null,
      "metadata": {
        "id": "o0RhWsYCEkGU"
      },
      "outputs": [],
      "source": []
    }
  ],
  "metadata": {
    "colab": {
      "provenance": []
    },
    "kernelspec": {
      "display_name": ".venv",
      "language": "python",
      "name": "python3"
    },
    "language_info": {
      "codemirror_mode": {
        "name": "ipython",
        "version": 3
      },
      "file_extension": ".py",
      "mimetype": "text/x-python",
      "name": "python",
      "nbconvert_exporter": "python",
      "pygments_lexer": "ipython3",
      "version": "3.9.16"
    }
  },
  "nbformat": 4,
  "nbformat_minor": 0
}
