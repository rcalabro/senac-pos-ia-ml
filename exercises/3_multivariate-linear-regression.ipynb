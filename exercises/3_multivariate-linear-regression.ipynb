{
  "cells": [
    {
      "cell_type": "markdown",
      "metadata": {},
      "source": [
        "### Centro Universitário Senac  \n",
        "**Professor:** Rafael Cóbe  \n",
        "**Disciplina:** Introdução ao Aprendizado de Máquina  \n",
        "\n",
        "### Exercício 3 - **Regressão Linear Multivariada**\n",
        "\n",
        "**Renato Calabro (calabro@live.com)**\n",
        "**Ágata Oliveira (agata.aso@hotmail.com)**\n",
        "**Lucas Parisi (parisi.lucas@gmail.com)**\n",
        "**Douglas Carvalho Rocha (douglas.particular@gmail.com)**\n",
        "**Angel Guillermo Morales Romero (aguilhermemr@gmail.com)**"
      ]
    },
    {
      "cell_type": "code",
      "execution_count": 32,
      "metadata": {
        "colab": {
          "base_uri": "https://localhost:8080/"
        },
        "id": "T2EFiXD-Ia8n",
        "outputId": "0dc5b2fd-364b-4748-948c-a253e303f1c7"
      },
      "outputs": [
        {
          "name": "stdout",
          "output_type": "stream",
          "text": [
            "Python 3.9.16\n",
            "Requirement already satisfied: anyio==4.9.0 in /home/rcalabro/codebase/senac-ia/machine-learning/.venv/lib/python3.9/site-packages (from -r ../requirements.txt (line 1)) (4.9.0)\n",
            "Requirement already satisfied: argon2-cffi==25.1.0 in /home/rcalabro/codebase/senac-ia/machine-learning/.venv/lib/python3.9/site-packages (from -r ../requirements.txt (line 2)) (25.1.0)\n",
            "Requirement already satisfied: argon2-cffi-bindings==21.2.0 in /home/rcalabro/codebase/senac-ia/machine-learning/.venv/lib/python3.9/site-packages (from -r ../requirements.txt (line 3)) (21.2.0)\n",
            "Requirement already satisfied: arrow==1.3.0 in /home/rcalabro/codebase/senac-ia/machine-learning/.venv/lib/python3.9/site-packages (from -r ../requirements.txt (line 4)) (1.3.0)\n",
            "Requirement already satisfied: asttokens==3.0.0 in /home/rcalabro/codebase/senac-ia/machine-learning/.venv/lib/python3.9/site-packages (from -r ../requirements.txt (line 5)) (3.0.0)\n",
            "Requirement already satisfied: async-lru==2.0.5 in /home/rcalabro/codebase/senac-ia/machine-learning/.venv/lib/python3.9/site-packages (from -r ../requirements.txt (line 6)) (2.0.5)\n",
            "Requirement already satisfied: attrs==25.3.0 in /home/rcalabro/codebase/senac-ia/machine-learning/.venv/lib/python3.9/site-packages (from -r ../requirements.txt (line 7)) (25.3.0)\n",
            "Requirement already satisfied: babel==2.17.0 in /home/rcalabro/codebase/senac-ia/machine-learning/.venv/lib/python3.9/site-packages (from -r ../requirements.txt (line 8)) (2.17.0)\n",
            "Requirement already satisfied: beautifulsoup4==4.13.4 in /home/rcalabro/codebase/senac-ia/machine-learning/.venv/lib/python3.9/site-packages (from -r ../requirements.txt (line 9)) (4.13.4)\n",
            "Requirement already satisfied: bleach==6.2.0 in /home/rcalabro/codebase/senac-ia/machine-learning/.venv/lib/python3.9/site-packages (from -r ../requirements.txt (line 10)) (6.2.0)\n",
            "Requirement already satisfied: certifi==2025.4.26 in /home/rcalabro/codebase/senac-ia/machine-learning/.venv/lib/python3.9/site-packages (from -r ../requirements.txt (line 11)) (2025.4.26)\n",
            "Requirement already satisfied: cffi==1.17.1 in /home/rcalabro/codebase/senac-ia/machine-learning/.venv/lib/python3.9/site-packages (from -r ../requirements.txt (line 12)) (1.17.1)\n",
            "Requirement already satisfied: charset-normalizer==3.4.2 in /home/rcalabro/codebase/senac-ia/machine-learning/.venv/lib/python3.9/site-packages (from -r ../requirements.txt (line 13)) (3.4.2)\n",
            "Requirement already satisfied: comm==0.2.2 in /home/rcalabro/codebase/senac-ia/machine-learning/.venv/lib/python3.9/site-packages (from -r ../requirements.txt (line 14)) (0.2.2)\n",
            "Requirement already satisfied: contourpy==1.3.0 in /home/rcalabro/codebase/senac-ia/machine-learning/.venv/lib/python3.9/site-packages (from -r ../requirements.txt (line 15)) (1.3.0)\n",
            "Requirement already satisfied: cycler==0.12.1 in /home/rcalabro/codebase/senac-ia/machine-learning/.venv/lib/python3.9/site-packages (from -r ../requirements.txt (line 16)) (0.12.1)\n",
            "Requirement already satisfied: debugpy==1.8.14 in /home/rcalabro/codebase/senac-ia/machine-learning/.venv/lib/python3.9/site-packages (from -r ../requirements.txt (line 17)) (1.8.14)\n",
            "Requirement already satisfied: decorator==5.2.1 in /home/rcalabro/codebase/senac-ia/machine-learning/.venv/lib/python3.9/site-packages (from -r ../requirements.txt (line 18)) (5.2.1)\n",
            "Requirement already satisfied: defusedxml==0.7.1 in /home/rcalabro/codebase/senac-ia/machine-learning/.venv/lib/python3.9/site-packages (from -r ../requirements.txt (line 19)) (0.7.1)\n",
            "Requirement already satisfied: exceptiongroup==1.3.0 in /home/rcalabro/codebase/senac-ia/machine-learning/.venv/lib/python3.9/site-packages (from -r ../requirements.txt (line 20)) (1.3.0)\n",
            "Requirement already satisfied: executing==2.2.0 in /home/rcalabro/codebase/senac-ia/machine-learning/.venv/lib/python3.9/site-packages (from -r ../requirements.txt (line 21)) (2.2.0)\n",
            "Requirement already satisfied: fastjsonschema==2.21.1 in /home/rcalabro/codebase/senac-ia/machine-learning/.venv/lib/python3.9/site-packages (from -r ../requirements.txt (line 22)) (2.21.1)\n",
            "Requirement already satisfied: filelock==3.18.0 in /home/rcalabro/codebase/senac-ia/machine-learning/.venv/lib/python3.9/site-packages (from -r ../requirements.txt (line 23)) (3.18.0)\n",
            "Requirement already satisfied: fonttools==4.58.0 in /home/rcalabro/codebase/senac-ia/machine-learning/.venv/lib/python3.9/site-packages (from -r ../requirements.txt (line 24)) (4.58.0)\n",
            "Requirement already satisfied: fqdn==1.5.1 in /home/rcalabro/codebase/senac-ia/machine-learning/.venv/lib/python3.9/site-packages (from -r ../requirements.txt (line 25)) (1.5.1)\n",
            "Requirement already satisfied: gdown==5.2.0 in /home/rcalabro/codebase/senac-ia/machine-learning/.venv/lib/python3.9/site-packages (from -r ../requirements.txt (line 26)) (5.2.0)\n",
            "Requirement already satisfied: h11==0.16.0 in /home/rcalabro/codebase/senac-ia/machine-learning/.venv/lib/python3.9/site-packages (from -r ../requirements.txt (line 27)) (0.16.0)\n",
            "Requirement already satisfied: httpcore==1.0.9 in /home/rcalabro/codebase/senac-ia/machine-learning/.venv/lib/python3.9/site-packages (from -r ../requirements.txt (line 28)) (1.0.9)\n",
            "Requirement already satisfied: httpx==0.28.1 in /home/rcalabro/codebase/senac-ia/machine-learning/.venv/lib/python3.9/site-packages (from -r ../requirements.txt (line 29)) (0.28.1)\n",
            "Requirement already satisfied: idna==3.10 in /home/rcalabro/codebase/senac-ia/machine-learning/.venv/lib/python3.9/site-packages (from -r ../requirements.txt (line 30)) (3.10)\n",
            "Requirement already satisfied: imbalanced-learn==0.12.4 in /home/rcalabro/codebase/senac-ia/machine-learning/.venv/lib/python3.9/site-packages (from -r ../requirements.txt (line 31)) (0.12.4)\n",
            "Requirement already satisfied: imblearn==0.0 in /home/rcalabro/codebase/senac-ia/machine-learning/.venv/lib/python3.9/site-packages (from -r ../requirements.txt (line 32)) (0.0)\n",
            "Requirement already satisfied: importlib_metadata==8.7.0 in /home/rcalabro/codebase/senac-ia/machine-learning/.venv/lib/python3.9/site-packages (from -r ../requirements.txt (line 33)) (8.7.0)\n",
            "Requirement already satisfied: importlib_resources==6.5.2 in /home/rcalabro/codebase/senac-ia/machine-learning/.venv/lib/python3.9/site-packages (from -r ../requirements.txt (line 34)) (6.5.2)\n",
            "Requirement already satisfied: ipykernel==6.29.5 in /home/rcalabro/codebase/senac-ia/machine-learning/.venv/lib/python3.9/site-packages (from -r ../requirements.txt (line 35)) (6.29.5)\n",
            "Requirement already satisfied: ipython==8.18.1 in /home/rcalabro/codebase/senac-ia/machine-learning/.venv/lib/python3.9/site-packages (from -r ../requirements.txt (line 36)) (8.18.1)\n",
            "Requirement already satisfied: ipywidgets==8.1.7 in /home/rcalabro/codebase/senac-ia/machine-learning/.venv/lib/python3.9/site-packages (from -r ../requirements.txt (line 37)) (8.1.7)\n",
            "Requirement already satisfied: isoduration==20.11.0 in /home/rcalabro/codebase/senac-ia/machine-learning/.venv/lib/python3.9/site-packages (from -r ../requirements.txt (line 38)) (20.11.0)\n",
            "Requirement already satisfied: jedi==0.19.2 in /home/rcalabro/codebase/senac-ia/machine-learning/.venv/lib/python3.9/site-packages (from -r ../requirements.txt (line 39)) (0.19.2)\n",
            "Requirement already satisfied: Jinja2==3.1.6 in /home/rcalabro/codebase/senac-ia/machine-learning/.venv/lib/python3.9/site-packages (from -r ../requirements.txt (line 40)) (3.1.6)\n",
            "Requirement already satisfied: joblib==1.5.1 in /home/rcalabro/codebase/senac-ia/machine-learning/.venv/lib/python3.9/site-packages (from -r ../requirements.txt (line 41)) (1.5.1)\n",
            "Requirement already satisfied: json5==0.12.0 in /home/rcalabro/codebase/senac-ia/machine-learning/.venv/lib/python3.9/site-packages (from -r ../requirements.txt (line 42)) (0.12.0)\n",
            "Requirement already satisfied: jsonpointer==3.0.0 in /home/rcalabro/codebase/senac-ia/machine-learning/.venv/lib/python3.9/site-packages (from -r ../requirements.txt (line 43)) (3.0.0)\n",
            "Requirement already satisfied: jsonschema==4.24.0 in /home/rcalabro/codebase/senac-ia/machine-learning/.venv/lib/python3.9/site-packages (from -r ../requirements.txt (line 44)) (4.24.0)\n",
            "Requirement already satisfied: jsonschema-specifications==2025.4.1 in /home/rcalabro/codebase/senac-ia/machine-learning/.venv/lib/python3.9/site-packages (from -r ../requirements.txt (line 45)) (2025.4.1)\n",
            "Requirement already satisfied: jupyter==1.1.1 in /home/rcalabro/codebase/senac-ia/machine-learning/.venv/lib/python3.9/site-packages (from -r ../requirements.txt (line 46)) (1.1.1)\n",
            "Requirement already satisfied: jupyter-console==6.6.3 in /home/rcalabro/codebase/senac-ia/machine-learning/.venv/lib/python3.9/site-packages (from -r ../requirements.txt (line 47)) (6.6.3)\n",
            "Requirement already satisfied: jupyter-events==0.12.0 in /home/rcalabro/codebase/senac-ia/machine-learning/.venv/lib/python3.9/site-packages (from -r ../requirements.txt (line 48)) (0.12.0)\n",
            "Requirement already satisfied: jupyter-lsp==2.2.5 in /home/rcalabro/codebase/senac-ia/machine-learning/.venv/lib/python3.9/site-packages (from -r ../requirements.txt (line 49)) (2.2.5)\n",
            "Requirement already satisfied: jupyter_client==8.6.3 in /home/rcalabro/codebase/senac-ia/machine-learning/.venv/lib/python3.9/site-packages (from -r ../requirements.txt (line 50)) (8.6.3)\n",
            "Requirement already satisfied: jupyter_core==5.8.1 in /home/rcalabro/codebase/senac-ia/machine-learning/.venv/lib/python3.9/site-packages (from -r ../requirements.txt (line 51)) (5.8.1)\n",
            "Requirement already satisfied: jupyter_server==2.16.0 in /home/rcalabro/codebase/senac-ia/machine-learning/.venv/lib/python3.9/site-packages (from -r ../requirements.txt (line 52)) (2.16.0)\n",
            "Requirement already satisfied: jupyter_server_terminals==0.5.3 in /home/rcalabro/codebase/senac-ia/machine-learning/.venv/lib/python3.9/site-packages (from -r ../requirements.txt (line 53)) (0.5.3)\n",
            "Requirement already satisfied: jupyterlab==4.4.3 in /home/rcalabro/codebase/senac-ia/machine-learning/.venv/lib/python3.9/site-packages (from -r ../requirements.txt (line 54)) (4.4.3)\n",
            "Requirement already satisfied: jupyterlab_pygments==0.3.0 in /home/rcalabro/codebase/senac-ia/machine-learning/.venv/lib/python3.9/site-packages (from -r ../requirements.txt (line 55)) (0.3.0)\n",
            "Requirement already satisfied: jupyterlab_server==2.27.3 in /home/rcalabro/codebase/senac-ia/machine-learning/.venv/lib/python3.9/site-packages (from -r ../requirements.txt (line 56)) (2.27.3)\n",
            "Requirement already satisfied: jupyterlab_widgets==3.0.15 in /home/rcalabro/codebase/senac-ia/machine-learning/.venv/lib/python3.9/site-packages (from -r ../requirements.txt (line 57)) (3.0.15)\n",
            "Requirement already satisfied: kiwisolver==1.4.7 in /home/rcalabro/codebase/senac-ia/machine-learning/.venv/lib/python3.9/site-packages (from -r ../requirements.txt (line 58)) (1.4.7)\n",
            "Requirement already satisfied: MarkupSafe==3.0.2 in /home/rcalabro/codebase/senac-ia/machine-learning/.venv/lib/python3.9/site-packages (from -r ../requirements.txt (line 59)) (3.0.2)\n",
            "Requirement already satisfied: matplotlib==3.9.4 in /home/rcalabro/codebase/senac-ia/machine-learning/.venv/lib/python3.9/site-packages (from -r ../requirements.txt (line 60)) (3.9.4)\n",
            "Requirement already satisfied: matplotlib-inline==0.1.7 in /home/rcalabro/codebase/senac-ia/machine-learning/.venv/lib/python3.9/site-packages (from -r ../requirements.txt (line 61)) (0.1.7)\n",
            "Requirement already satisfied: mistune==3.1.3 in /home/rcalabro/codebase/senac-ia/machine-learning/.venv/lib/python3.9/site-packages (from -r ../requirements.txt (line 62)) (3.1.3)\n",
            "Requirement already satisfied: mlxtend==0.23.4 in /home/rcalabro/codebase/senac-ia/machine-learning/.venv/lib/python3.9/site-packages (from -r ../requirements.txt (line 63)) (0.23.4)\n",
            "Requirement already satisfied: nbclient==0.10.2 in /home/rcalabro/codebase/senac-ia/machine-learning/.venv/lib/python3.9/site-packages (from -r ../requirements.txt (line 64)) (0.10.2)\n",
            "Requirement already satisfied: nbconvert==7.16.6 in /home/rcalabro/codebase/senac-ia/machine-learning/.venv/lib/python3.9/site-packages (from -r ../requirements.txt (line 65)) (7.16.6)\n",
            "Requirement already satisfied: nbformat==5.10.4 in /home/rcalabro/codebase/senac-ia/machine-learning/.venv/lib/python3.9/site-packages (from -r ../requirements.txt (line 66)) (5.10.4)\n",
            "Requirement already satisfied: nest-asyncio==1.6.0 in /home/rcalabro/codebase/senac-ia/machine-learning/.venv/lib/python3.9/site-packages (from -r ../requirements.txt (line 67)) (1.6.0)\n",
            "Requirement already satisfied: notebook==7.4.3 in /home/rcalabro/codebase/senac-ia/machine-learning/.venv/lib/python3.9/site-packages (from -r ../requirements.txt (line 68)) (7.4.3)\n",
            "Requirement already satisfied: notebook_shim==0.2.4 in /home/rcalabro/codebase/senac-ia/machine-learning/.venv/lib/python3.9/site-packages (from -r ../requirements.txt (line 69)) (0.2.4)\n",
            "Requirement already satisfied: numpy==2.0.2 in /home/rcalabro/codebase/senac-ia/machine-learning/.venv/lib/python3.9/site-packages (from -r ../requirements.txt (line 70)) (2.0.2)\n",
            "Requirement already satisfied: nvidia-nccl-cu12==2.27.3 in /home/rcalabro/codebase/senac-ia/machine-learning/.venv/lib/python3.9/site-packages (from -r ../requirements.txt (line 71)) (2.27.3)\n",
            "Requirement already satisfied: overrides==7.7.0 in /home/rcalabro/codebase/senac-ia/machine-learning/.venv/lib/python3.9/site-packages (from -r ../requirements.txt (line 72)) (7.7.0)\n",
            "Requirement already satisfied: packaging==25.0 in /home/rcalabro/codebase/senac-ia/machine-learning/.venv/lib/python3.9/site-packages (from -r ../requirements.txt (line 73)) (25.0)\n",
            "Requirement already satisfied: pandas==2.2.3 in /home/rcalabro/codebase/senac-ia/machine-learning/.venv/lib/python3.9/site-packages (from -r ../requirements.txt (line 74)) (2.2.3)\n",
            "Requirement already satisfied: pandocfilters==1.5.1 in /home/rcalabro/codebase/senac-ia/machine-learning/.venv/lib/python3.9/site-packages (from -r ../requirements.txt (line 75)) (1.5.1)\n",
            "Requirement already satisfied: parso==0.8.4 in /home/rcalabro/codebase/senac-ia/machine-learning/.venv/lib/python3.9/site-packages (from -r ../requirements.txt (line 76)) (0.8.4)\n",
            "Requirement already satisfied: patsy==1.0.1 in /home/rcalabro/codebase/senac-ia/machine-learning/.venv/lib/python3.9/site-packages (from -r ../requirements.txt (line 77)) (1.0.1)\n",
            "Requirement already satisfied: pexpect==4.9.0 in /home/rcalabro/codebase/senac-ia/machine-learning/.venv/lib/python3.9/site-packages (from -r ../requirements.txt (line 78)) (4.9.0)\n",
            "Requirement already satisfied: pillow==11.2.1 in /home/rcalabro/codebase/senac-ia/machine-learning/.venv/lib/python3.9/site-packages (from -r ../requirements.txt (line 79)) (11.2.1)\n",
            "Requirement already satisfied: platformdirs==4.3.8 in /home/rcalabro/codebase/senac-ia/machine-learning/.venv/lib/python3.9/site-packages (from -r ../requirements.txt (line 80)) (4.3.8)\n",
            "Requirement already satisfied: prometheus_client==0.22.1 in /home/rcalabro/codebase/senac-ia/machine-learning/.venv/lib/python3.9/site-packages (from -r ../requirements.txt (line 81)) (0.22.1)\n",
            "Requirement already satisfied: prompt_toolkit==3.0.51 in /home/rcalabro/codebase/senac-ia/machine-learning/.venv/lib/python3.9/site-packages (from -r ../requirements.txt (line 82)) (3.0.51)\n",
            "Requirement already satisfied: psutil==7.0.0 in /home/rcalabro/codebase/senac-ia/machine-learning/.venv/lib/python3.9/site-packages (from -r ../requirements.txt (line 83)) (7.0.0)\n",
            "Requirement already satisfied: ptyprocess==0.7.0 in /home/rcalabro/codebase/senac-ia/machine-learning/.venv/lib/python3.9/site-packages (from -r ../requirements.txt (line 84)) (0.7.0)\n",
            "Requirement already satisfied: pure_eval==0.2.3 in /home/rcalabro/codebase/senac-ia/machine-learning/.venv/lib/python3.9/site-packages (from -r ../requirements.txt (line 85)) (0.2.3)\n",
            "Requirement already satisfied: pycparser==2.22 in /home/rcalabro/codebase/senac-ia/machine-learning/.venv/lib/python3.9/site-packages (from -r ../requirements.txt (line 86)) (2.22)\n",
            "Requirement already satisfied: Pygments==2.19.1 in /home/rcalabro/codebase/senac-ia/machine-learning/.venv/lib/python3.9/site-packages (from -r ../requirements.txt (line 87)) (2.19.1)\n",
            "Requirement already satisfied: pyparsing==3.2.3 in /home/rcalabro/codebase/senac-ia/machine-learning/.venv/lib/python3.9/site-packages (from -r ../requirements.txt (line 88)) (3.2.3)\n",
            "Requirement already satisfied: PySocks==1.7.1 in /home/rcalabro/codebase/senac-ia/machine-learning/.venv/lib/python3.9/site-packages (from -r ../requirements.txt (line 89)) (1.7.1)\n",
            "Requirement already satisfied: python-dateutil==2.9.0.post0 in /home/rcalabro/codebase/senac-ia/machine-learning/.venv/lib/python3.9/site-packages (from -r ../requirements.txt (line 90)) (2.9.0.post0)\n",
            "Requirement already satisfied: python-json-logger==3.3.0 in /home/rcalabro/codebase/senac-ia/machine-learning/.venv/lib/python3.9/site-packages (from -r ../requirements.txt (line 91)) (3.3.0)\n",
            "Requirement already satisfied: pytz==2025.2 in /home/rcalabro/codebase/senac-ia/machine-learning/.venv/lib/python3.9/site-packages (from -r ../requirements.txt (line 92)) (2025.2)\n",
            "Requirement already satisfied: PyYAML==6.0.2 in /home/rcalabro/codebase/senac-ia/machine-learning/.venv/lib/python3.9/site-packages (from -r ../requirements.txt (line 93)) (6.0.2)\n",
            "Requirement already satisfied: pyzmq==26.4.0 in /home/rcalabro/codebase/senac-ia/machine-learning/.venv/lib/python3.9/site-packages (from -r ../requirements.txt (line 94)) (26.4.0)\n",
            "Requirement already satisfied: referencing==0.36.2 in /home/rcalabro/codebase/senac-ia/machine-learning/.venv/lib/python3.9/site-packages (from -r ../requirements.txt (line 95)) (0.36.2)\n",
            "Requirement already satisfied: requests==2.32.3 in /home/rcalabro/codebase/senac-ia/machine-learning/.venv/lib/python3.9/site-packages (from -r ../requirements.txt (line 96)) (2.32.3)\n",
            "Requirement already satisfied: rfc3339-validator==0.1.4 in /home/rcalabro/codebase/senac-ia/machine-learning/.venv/lib/python3.9/site-packages (from -r ../requirements.txt (line 97)) (0.1.4)\n",
            "Requirement already satisfied: rfc3986-validator==0.1.1 in /home/rcalabro/codebase/senac-ia/machine-learning/.venv/lib/python3.9/site-packages (from -r ../requirements.txt (line 98)) (0.1.1)\n",
            "Requirement already satisfied: rpds-py==0.25.1 in /home/rcalabro/codebase/senac-ia/machine-learning/.venv/lib/python3.9/site-packages (from -r ../requirements.txt (line 99)) (0.25.1)\n",
            "Requirement already satisfied: scikit-learn==1.6.1 in /home/rcalabro/codebase/senac-ia/machine-learning/.venv/lib/python3.9/site-packages (from -r ../requirements.txt (line 100)) (1.6.1)\n",
            "Requirement already satisfied: scipy==1.13.1 in /home/rcalabro/codebase/senac-ia/machine-learning/.venv/lib/python3.9/site-packages (from -r ../requirements.txt (line 101)) (1.13.1)\n",
            "Requirement already satisfied: seaborn==0.13.2 in /home/rcalabro/codebase/senac-ia/machine-learning/.venv/lib/python3.9/site-packages (from -r ../requirements.txt (line 102)) (0.13.2)\n",
            "Requirement already satisfied: Send2Trash==1.8.3 in /home/rcalabro/codebase/senac-ia/machine-learning/.venv/lib/python3.9/site-packages (from -r ../requirements.txt (line 103)) (1.8.3)\n",
            "Requirement already satisfied: six==1.17.0 in /home/rcalabro/codebase/senac-ia/machine-learning/.venv/lib/python3.9/site-packages (from -r ../requirements.txt (line 104)) (1.17.0)\n",
            "Requirement already satisfied: sniffio==1.3.1 in /home/rcalabro/codebase/senac-ia/machine-learning/.venv/lib/python3.9/site-packages (from -r ../requirements.txt (line 105)) (1.3.1)\n",
            "Requirement already satisfied: soupsieve==2.7 in /home/rcalabro/codebase/senac-ia/machine-learning/.venv/lib/python3.9/site-packages (from -r ../requirements.txt (line 106)) (2.7)\n",
            "Requirement already satisfied: stack-data==0.6.3 in /home/rcalabro/codebase/senac-ia/machine-learning/.venv/lib/python3.9/site-packages (from -r ../requirements.txt (line 107)) (0.6.3)\n",
            "Requirement already satisfied: statsmodels==0.14.4 in /home/rcalabro/codebase/senac-ia/machine-learning/.venv/lib/python3.9/site-packages (from -r ../requirements.txt (line 108)) (0.14.4)\n",
            "Requirement already satisfied: terminado==0.18.1 in /home/rcalabro/codebase/senac-ia/machine-learning/.venv/lib/python3.9/site-packages (from -r ../requirements.txt (line 109)) (0.18.1)\n",
            "Requirement already satisfied: threadpoolctl==3.6.0 in /home/rcalabro/codebase/senac-ia/machine-learning/.venv/lib/python3.9/site-packages (from -r ../requirements.txt (line 110)) (3.6.0)\n",
            "Requirement already satisfied: tinycss2==1.4.0 in /home/rcalabro/codebase/senac-ia/machine-learning/.venv/lib/python3.9/site-packages (from -r ../requirements.txt (line 111)) (1.4.0)\n",
            "Requirement already satisfied: tomli==2.2.1 in /home/rcalabro/codebase/senac-ia/machine-learning/.venv/lib/python3.9/site-packages (from -r ../requirements.txt (line 112)) (2.2.1)\n",
            "Requirement already satisfied: tornado==6.5.1 in /home/rcalabro/codebase/senac-ia/machine-learning/.venv/lib/python3.9/site-packages (from -r ../requirements.txt (line 113)) (6.5.1)\n",
            "Requirement already satisfied: tqdm==4.67.1 in /home/rcalabro/codebase/senac-ia/machine-learning/.venv/lib/python3.9/site-packages (from -r ../requirements.txt (line 114)) (4.67.1)\n",
            "Requirement already satisfied: traitlets==5.14.3 in /home/rcalabro/codebase/senac-ia/machine-learning/.venv/lib/python3.9/site-packages (from -r ../requirements.txt (line 115)) (5.14.3)\n",
            "Requirement already satisfied: types-python-dateutil==2.9.0.20250516 in /home/rcalabro/codebase/senac-ia/machine-learning/.venv/lib/python3.9/site-packages (from -r ../requirements.txt (line 116)) (2.9.0.20250516)\n",
            "Requirement already satisfied: typing_extensions==4.13.2 in /home/rcalabro/codebase/senac-ia/machine-learning/.venv/lib/python3.9/site-packages (from -r ../requirements.txt (line 117)) (4.13.2)\n",
            "Requirement already satisfied: tzdata==2025.2 in /home/rcalabro/codebase/senac-ia/machine-learning/.venv/lib/python3.9/site-packages (from -r ../requirements.txt (line 118)) (2025.2)\n",
            "Requirement already satisfied: uri-template==1.3.0 in /home/rcalabro/codebase/senac-ia/machine-learning/.venv/lib/python3.9/site-packages (from -r ../requirements.txt (line 119)) (1.3.0)\n",
            "Requirement already satisfied: urllib3==2.4.0 in /home/rcalabro/codebase/senac-ia/machine-learning/.venv/lib/python3.9/site-packages (from -r ../requirements.txt (line 120)) (2.4.0)\n",
            "Requirement already satisfied: wcwidth==0.2.13 in /home/rcalabro/codebase/senac-ia/machine-learning/.venv/lib/python3.9/site-packages (from -r ../requirements.txt (line 121)) (0.2.13)\n",
            "Requirement already satisfied: webcolors==24.11.1 in /home/rcalabro/codebase/senac-ia/machine-learning/.venv/lib/python3.9/site-packages (from -r ../requirements.txt (line 122)) (24.11.1)\n",
            "Requirement already satisfied: webencodings==0.5.1 in /home/rcalabro/codebase/senac-ia/machine-learning/.venv/lib/python3.9/site-packages (from -r ../requirements.txt (line 123)) (0.5.1)\n",
            "Requirement already satisfied: websocket-client==1.8.0 in /home/rcalabro/codebase/senac-ia/machine-learning/.venv/lib/python3.9/site-packages (from -r ../requirements.txt (line 124)) (1.8.0)\n",
            "Requirement already satisfied: widgetsnbextension==4.0.14 in /home/rcalabro/codebase/senac-ia/machine-learning/.venv/lib/python3.9/site-packages (from -r ../requirements.txt (line 125)) (4.0.14)\n",
            "Requirement already satisfied: xgboost==2.1.4 in /home/rcalabro/codebase/senac-ia/machine-learning/.venv/lib/python3.9/site-packages (from -r ../requirements.txt (line 126)) (2.1.4)\n",
            "Requirement already satisfied: zipp==3.22.0 in /home/rcalabro/codebase/senac-ia/machine-learning/.venv/lib/python3.9/site-packages (from -r ../requirements.txt (line 127)) (3.22.0)\n",
            "Requirement already satisfied: setuptools>=41.1.0 in /home/rcalabro/codebase/senac-ia/machine-learning/.venv/lib/python3.9/site-packages (from jupyterlab==4.4.3->-r ../requirements.txt (line 54)) (80.9.0)\n",
            "Note: you may need to restart the kernel to use updated packages.\n",
            "Requirement already satisfied: gdown in /home/rcalabro/codebase/senac-ia/machine-learning/.venv/lib/python3.9/site-packages (5.2.0)\n",
            "Requirement already satisfied: beautifulsoup4 in /home/rcalabro/codebase/senac-ia/machine-learning/.venv/lib/python3.9/site-packages (from gdown) (4.13.4)\n",
            "Requirement already satisfied: filelock in /home/rcalabro/codebase/senac-ia/machine-learning/.venv/lib/python3.9/site-packages (from gdown) (3.18.0)\n",
            "Requirement already satisfied: requests[socks] in /home/rcalabro/codebase/senac-ia/machine-learning/.venv/lib/python3.9/site-packages (from gdown) (2.32.3)\n",
            "Requirement already satisfied: tqdm in /home/rcalabro/codebase/senac-ia/machine-learning/.venv/lib/python3.9/site-packages (from gdown) (4.67.1)\n",
            "Requirement already satisfied: soupsieve>1.2 in /home/rcalabro/codebase/senac-ia/machine-learning/.venv/lib/python3.9/site-packages (from beautifulsoup4->gdown) (2.7)\n",
            "Requirement already satisfied: typing-extensions>=4.0.0 in /home/rcalabro/codebase/senac-ia/machine-learning/.venv/lib/python3.9/site-packages (from beautifulsoup4->gdown) (4.13.2)\n",
            "Requirement already satisfied: charset-normalizer<4,>=2 in /home/rcalabro/codebase/senac-ia/machine-learning/.venv/lib/python3.9/site-packages (from requests[socks]->gdown) (3.4.2)\n",
            "Requirement already satisfied: idna<4,>=2.5 in /home/rcalabro/codebase/senac-ia/machine-learning/.venv/lib/python3.9/site-packages (from requests[socks]->gdown) (3.10)\n",
            "Requirement already satisfied: urllib3<3,>=1.21.1 in /home/rcalabro/codebase/senac-ia/machine-learning/.venv/lib/python3.9/site-packages (from requests[socks]->gdown) (2.4.0)\n",
            "Requirement already satisfied: certifi>=2017.4.17 in /home/rcalabro/codebase/senac-ia/machine-learning/.venv/lib/python3.9/site-packages (from requests[socks]->gdown) (2025.4.26)\n",
            "Requirement already satisfied: PySocks!=1.5.7,>=1.5.6 in /home/rcalabro/codebase/senac-ia/machine-learning/.venv/lib/python3.9/site-packages (from requests[socks]->gdown) (1.7.1)\n",
            "Note: you may need to restart the kernel to use updated packages.\n"
          ]
        }
      ],
      "source": [
        "!../.venv/bin/python --version\n",
        "%pip install -r ../requirements.txt\n",
        "# %pip install numpy pandas matplotlib seaborn scikit-learn ipkernel\n",
        "# %pip freeze > requirements.txt\n",
        "%pip install gdown"
      ]
    },
    {
      "cell_type": "code",
      "execution_count": 33,
      "metadata": {
        "colab": {
          "base_uri": "https://localhost:8080/"
        },
        "id": "pnYIzuyLIdrb",
        "outputId": "82c99ff9-e68b-45a2-edbe-ca9ffd4ec3e1"
      },
      "outputs": [],
      "source": [
        "# !mkdir -p data/\n",
        "# !gdown https://drive.google.com/uc?id=1zcsUU6neakc2_BnATvvsLekvMyz1cztM -O data/\n",
        "# !gdown https://drive.google.com/uc?id=1zZdavmX2Zlhfe9up-25rXvE3v0HF9Ajd -O data/\n",
        "\n",
        "# baixados manualmente para trabalhar fora do ambiente do Colab autenticado"
      ]
    },
    {
      "cell_type": "code",
      "execution_count": 34,
      "metadata": {},
      "outputs": [],
      "source": [
        "import math\n",
        "\n",
        "import numpy as np\n",
        "import pandas as pd\n",
        "from scipy import stats\n",
        "\n",
        "import matplotlib.pyplot as plt\n",
        "import seaborn as sns\n",
        "\n",
        "from sklearn import datasets, linear_model\n",
        "from sklearn.linear_model import LinearRegression, SGDRegressor\n",
        "from sklearn.neighbors import KNeighborsRegressor\n",
        "from sklearn.metrics import mean_squared_error, r2_score\n",
        "from sklearn.model_selection import train_test_split\n",
        "from sklearn.preprocessing import StandardScaler\n",
        "from sklearn.pipeline import make_pipeline\n",
        "\n",
        "import statsmodels.api as sm\n",
        "from statsmodels.stats.outliers_influence import variance_inflation_factor\n",
        "from statsmodels.tools.tools import add_constant\n"
      ]
    },
    {
      "cell_type": "code",
      "execution_count": 35,
      "metadata": {},
      "outputs": [],
      "source": [
        "from pathlib import Path\n",
        "\n",
        "base_path = Path(\"../datasets/regression_data\")"
      ]
    },
    {
      "cell_type": "code",
      "execution_count": 36,
      "metadata": {},
      "outputs": [
        {
          "data": {
            "text/html": [
              "<div>\n",
              "<style scoped>\n",
              "    .dataframe tbody tr th:only-of-type {\n",
              "        vertical-align: middle;\n",
              "    }\n",
              "\n",
              "    .dataframe tbody tr th {\n",
              "        vertical-align: top;\n",
              "    }\n",
              "\n",
              "    .dataframe thead th {\n",
              "        text-align: right;\n",
              "    }\n",
              "</style>\n",
              "<table border=\"1\" class=\"dataframe\">\n",
              "  <thead>\n",
              "    <tr style=\"text-align: right;\">\n",
              "      <th></th>\n",
              "      <th>id</th>\n",
              "      <th>TV</th>\n",
              "      <th>radio</th>\n",
              "      <th>newspaper</th>\n",
              "      <th>sales</th>\n",
              "    </tr>\n",
              "  </thead>\n",
              "  <tbody>\n",
              "    <tr>\n",
              "      <th>0</th>\n",
              "      <td>1</td>\n",
              "      <td>230.1</td>\n",
              "      <td>37.8</td>\n",
              "      <td>69.2</td>\n",
              "      <td>22.1</td>\n",
              "    </tr>\n",
              "    <tr>\n",
              "      <th>1</th>\n",
              "      <td>2</td>\n",
              "      <td>44.5</td>\n",
              "      <td>39.3</td>\n",
              "      <td>45.1</td>\n",
              "      <td>10.4</td>\n",
              "    </tr>\n",
              "    <tr>\n",
              "      <th>2</th>\n",
              "      <td>3</td>\n",
              "      <td>17.2</td>\n",
              "      <td>45.9</td>\n",
              "      <td>69.3</td>\n",
              "      <td>9.3</td>\n",
              "    </tr>\n",
              "    <tr>\n",
              "      <th>3</th>\n",
              "      <td>4</td>\n",
              "      <td>151.5</td>\n",
              "      <td>41.3</td>\n",
              "      <td>58.5</td>\n",
              "      <td>18.5</td>\n",
              "    </tr>\n",
              "    <tr>\n",
              "      <th>4</th>\n",
              "      <td>5</td>\n",
              "      <td>180.8</td>\n",
              "      <td>10.8</td>\n",
              "      <td>58.4</td>\n",
              "      <td>12.9</td>\n",
              "    </tr>\n",
              "  </tbody>\n",
              "</table>\n",
              "</div>"
            ],
            "text/plain": [
              "   id     TV  radio  newspaper  sales\n",
              "0   1  230.1   37.8       69.2   22.1\n",
              "1   2   44.5   39.3       45.1   10.4\n",
              "2   3   17.2   45.9       69.3    9.3\n",
              "3   4  151.5   41.3       58.5   18.5\n",
              "4   5  180.8   10.8       58.4   12.9"
            ]
          },
          "metadata": {},
          "output_type": "display_data"
        }
      ],
      "source": [
        "advertising_file = base_path / \"Advertising.csv\"\n",
        "\n",
        "if advertising_file.exists():\n",
        "    df_advertising = pd.read_csv(\n",
        "        advertising_file,\n",
        "        sep=',',\n",
        "    )\n",
        "    df_advertising.rename(columns={df_advertising.columns[0]: 'id'}, inplace=True)\n",
        "    display(df_advertising.head())\n",
        "else:\n",
        "    print(f\"Arquivo não encontrado: {advertising_file.resolve()}\")"
      ]
    },
    {
      "cell_type": "code",
      "execution_count": 37,
      "metadata": {},
      "outputs": [
        {
          "data": {
            "text/html": [
              "<div>\n",
              "<style scoped>\n",
              "    .dataframe tbody tr th:only-of-type {\n",
              "        vertical-align: middle;\n",
              "    }\n",
              "\n",
              "    .dataframe tbody tr th {\n",
              "        vertical-align: top;\n",
              "    }\n",
              "\n",
              "    .dataframe thead th {\n",
              "        text-align: right;\n",
              "    }\n",
              "</style>\n",
              "<table border=\"1\" class=\"dataframe\">\n",
              "  <thead>\n",
              "    <tr style=\"text-align: right;\">\n",
              "      <th></th>\n",
              "      <th>tamanho</th>\n",
              "      <th>quartos</th>\n",
              "      <th>preco</th>\n",
              "    </tr>\n",
              "  </thead>\n",
              "  <tbody>\n",
              "    <tr>\n",
              "      <th>0</th>\n",
              "      <td>2104</td>\n",
              "      <td>3</td>\n",
              "      <td>399900</td>\n",
              "    </tr>\n",
              "    <tr>\n",
              "      <th>1</th>\n",
              "      <td>1600</td>\n",
              "      <td>3</td>\n",
              "      <td>329900</td>\n",
              "    </tr>\n",
              "    <tr>\n",
              "      <th>2</th>\n",
              "      <td>2400</td>\n",
              "      <td>3</td>\n",
              "      <td>369000</td>\n",
              "    </tr>\n",
              "    <tr>\n",
              "      <th>3</th>\n",
              "      <td>1416</td>\n",
              "      <td>2</td>\n",
              "      <td>232000</td>\n",
              "    </tr>\n",
              "    <tr>\n",
              "      <th>4</th>\n",
              "      <td>3000</td>\n",
              "      <td>4</td>\n",
              "      <td>539900</td>\n",
              "    </tr>\n",
              "  </tbody>\n",
              "</table>\n",
              "</div>"
            ],
            "text/plain": [
              "   tamanho  quartos   preco\n",
              "0     2104        3  399900\n",
              "1     1600        3  329900\n",
              "2     2400        3  369000\n",
              "3     1416        2  232000\n",
              "4     3000        4  539900"
            ]
          },
          "metadata": {},
          "output_type": "display_data"
        }
      ],
      "source": [
        "house_prices_file = base_path / \"Portland_housePrices.csv\"\n",
        "\n",
        "if house_prices_file.exists():\n",
        "    df_houses = pd.read_csv(\n",
        "        house_prices_file,\n",
        "        sep=',',\n",
        "    )\n",
        "    display(df_houses.head())\n",
        "else:\n",
        "    print(f\"Arquivo não encontrado: {house_prices_file.resolve()}\")"
      ]
    },
    {
      "cell_type": "markdown",
      "metadata": {
        "id": "vNAIPEbSEkGR"
      },
      "source": [
        "#### Para cada um dos conjuntos de treinamento, utilize a função <i>fit</i> múltiplas vezes considerando apenas <i>um</i> atributo preditor.\n",
        "\n",
        "##### O modelo aprendido muda a cada vez que a função <i>fit</i> é utilizada?"
      ]
    },
    {
      "cell_type": "code",
      "execution_count": 38,
      "metadata": {},
      "outputs": [
        {
          "name": "stdout",
          "output_type": "stream",
          "text": [
            "SGDRegressor - Iteration 1\n",
            "Coefficients: [1.36489207e+12]\n",
            "MSE: 8.608318687398644e+30\n",
            "R2: -5.625500016961364e+20\n",
            "SGDRegressor - Iteration 2\n",
            "Coefficients: [-1.18791705e+12]\n",
            "MSE: 6.520871156535583e+30\n",
            "R2: -4.2613618447226785e+20\n",
            "SGDRegressor - Iteration 3\n",
            "Coefficients: [-8.23357606e+11]\n",
            "MSE: 3.132748080858725e+30\n",
            "R2: -2.0472376804316512e+20\n"
          ]
        }
      ],
      "source": [
        "# Housing dataset\n",
        "X = df_houses[['tamanho']]\n",
        "y = df_houses[['preco']].values.ravel()\n",
        "\n",
        "for i in range(3):\n",
        "    lr_model = SGDRegressor()\n",
        "    lr_model.fit(X, y)\n",
        "    y_pred = lr_model.predict(X)\n",
        "\n",
        "    print(f\"SGDRegressor - Iteration {i+1}\")\n",
        "    print(\"Coefficients:\", lr_model.coef_)\n",
        "    print(\"MSE:\", mean_squared_error(y, y_pred))\n",
        "    print(\"R2:\", r2_score(y, y_pred))"
      ]
    },
    {
      "cell_type": "code",
      "execution_count": 39,
      "metadata": {
        "id": "ea0TfMSFEkGS"
      },
      "outputs": [
        {
          "name": "stdout",
          "output_type": "stream",
          "text": [
            "SGDRegressor - Iteration 1\n",
            "Coefficients: [2.93612619e+10]\n",
            "MSE: 2.493604129385486e+25\n",
            "R2: -9.206334344743573e+23\n",
            "SGDRegressor - Iteration 2\n",
            "Coefficients: [2.98938553e+11]\n",
            "MSE: 2.5913409389794476e+27\n",
            "R2: -9.567176603667926e+25\n",
            "SGDRegressor - Iteration 3\n",
            "Coefficients: [-7.28035417e+10]\n",
            "MSE: 1.5335914832640622e+26\n",
            "R2: -5.66198771360695e+24\n"
          ]
        }
      ],
      "source": [
        "# Advertising dataset\n",
        "df_advertising_train = df_advertising.drop(columns=['id'], inplace=False)\n",
        "X = df_advertising_train[['TV']]\n",
        "y = df_advertising_train[['sales']].values.ravel()\n",
        "\n",
        "for i in range(3):\n",
        "    lr_model = SGDRegressor()\n",
        "    lr_model.fit(X, y)\n",
        "    y_pred = lr_model.predict(X)\n",
        "\n",
        "    print(f\"SGDRegressor - Iteration {i+1}\")\n",
        "    print(\"Coefficients:\", lr_model.coef_)\n",
        "    print(\"MSE:\", mean_squared_error(y, y_pred))\n",
        "    print(\"R2:\", r2_score(y, y_pred))"
      ]
    },
    {
      "cell_type": "markdown",
      "metadata": {},
      "source": [
        "Sim, o modelo muda a cada execução do `fit`, mesmo com os mesmos dados, porque o `SGDRegressor` **não é determinístico por padrão**. \n",
        "\n",
        "Isso ocorre porque ele utiliza **descida do gradiente estocástica**, que envolve:\n",
        "\n",
        "- Inicialização aleatória dos coeficientes\n",
        "- Embaralhamento dos dados em cada passada\n",
        "\n",
        "Diferente da regressão linear clássica (analítica), que sempre gera os mesmos coeficientes para os mesmos dados, o `SGDRegressor` pode gerar resultados diferentes a cada treino. Para tornar o comportamento reprodutível, defina o parâmetro `random_state`.\n"
      ]
    },
    {
      "cell_type": "markdown",
      "metadata": {},
      "source": [
        "##### Os modelos finais aprendidos são os mesmos da outra implementação de regressão linear?\n",
        "\n",
        "Não necessariamente. `LinearRegression` resolve a equação analítica de mínimos quadrados, obtendo os coeficientes exatos. Já o `SGDRegressor` é um método iterativo e pode convergir para soluções **aproximadas** e **variáveis**, dependendo da taxa de aprendizado, número de épocas e aleatoriedade."
      ]
    },
    {
      "cell_type": "markdown",
      "metadata": {
        "id": "vP2mDQUrEkGS"
      },
      "source": [
        "#### Aprenda modelos utilizando todos os atributos de entrada.\n",
        "\n",
        "##### Baseado no RSS e no R^2, é possível obter um modelo melhor utilizando todos os dados?\n",
        "\n",
        "Sim. Em geral, utilizar mais atributos informativos tende a **reduzir o RSS** (Residual Sum of Squares) e **aumentar o R²**, indicando melhor ajuste. No entanto, isso depende da **relevância dos atributos** e da presença de multicolinearidade."
      ]
    },
    {
      "cell_type": "markdown",
      "metadata": {},
      "source": [
        "##### Existem atributos que poderiam ser desconsiderados sem que fosse afetada a precisão?\n",
        "\n",
        "Sim. Se um atributo apresenta **baixa correlação com a variável-alvo** ou é **redundante** (altamente correlacionado com outro atributo), ele pode ser removido sem perda significativa de desempenho. Técnicas como análise de correlação ou regularização (`Lasso`) ajudam a identificar esses casos.\n",
        "\n",
        "Por exemplo:\n",
        "- `newspaper`: correlação com `sales` é baixa (**0.23**), podendo ser removido sem grande perda de desempenho.\n",
        "- `id`: é apenas um identificador, com correlação praticamente nula (**-0.05**) e **deve ser descartado**."
      ]
    },
    {
      "cell_type": "code",
      "execution_count": 40,
      "metadata": {},
      "outputs": [
        {
          "data": {
            "image/png": "[encoded data removed]",
            "text/plain": [
              "<Figure size 800x600 with 2 Axes>"
            ]
          },
          "metadata": {},
          "output_type": "display_data"
        }
      ],
      "source": [
        "correlation_matrix = df_advertising.corr(numeric_only=True)\n",
        "\n",
        "plt.figure(figsize=(8, 6))\n",
        "sns.heatmap(correlation_matrix, annot=True, cmap='coolwarm', fmt=\".2f\", linewidths=0.5)\n",
        "plt.title(\"Matriz de Correlação\")\n",
        "plt.tight_layout()\n",
        "plt.show()"
      ]
    },
    {
      "cell_type": "markdown",
      "metadata": {},
      "source": [
        "##### Qual implementação treina mais rápido? A com método dos mínimos quadrados ou a com descida de gradiente?\n",
        "\n",
        "- Em datasets pequenos como este, **`LinearRegression`** (mínimos quadrados) é **mais rápida e precisa**, pois resolve a equação diretamente.\n",
        "- O `SGDRegressor` é vantajoso **apenas em grandes volumes de dados**, onde métodos exatos tornam-se computacionalmente caros."
      ]
    },
    {
      "cell_type": "markdown",
      "metadata": {
        "id": "Y0egKHuIEkGT"
      },
      "source": [
        "#### Realizar a análise da qualidade dos preditores utilizados no modelo construído.\n",
        "\n",
        "##### Construir o plot de resíduos. Será que os resíduos estão aleatoriamente distribuídos ao redor de 0?"
      ]
    },
    {
      "cell_type": "code",
      "execution_count": 41,
      "metadata": {
        "id": "VQMn_MwVEkGT"
      },
      "outputs": [
        {
          "data": {
            "image/png": "[encoded data removed]",
            "text/plain": [
              "<Figure size 800x500 with 1 Axes>"
            ]
          },
          "metadata": {},
          "output_type": "display_data"
        }
      ],
      "source": [
        "X = df_advertising[['TV', 'radio', 'newspaper']]\n",
        "y = df_advertising['sales']\n",
        "\n",
        "model = make_pipeline(StandardScaler(), SGDRegressor(random_state=42, max_iter=1000, tol=1e-3))\n",
        "model.fit(X, y)\n",
        "y_pred = model.predict(X)\n",
        "residuals = y - y_pred\n",
        "\n",
        "# Plot de resíduos com LOWESS manual\n",
        "from statsmodels.nonparametric.smoothers_lowess import lowess\n",
        "smoothed = lowess(residuals, y_pred)\n",
        "\n",
        "plt.figure(figsize=(8, 5))\n",
        "sns.scatterplot(x=y_pred, y=residuals, label=\"Resíduos\")\n",
        "plt.plot(smoothed[:, 0], smoothed[:, 1], color='red', label='LOWESS')\n",
        "plt.axhline(0, color='gray', linestyle='--')\n",
        "plt.xlabel(\"Valores Preditos (SGD)\")\n",
        "plt.ylabel(\"Resíduos\")\n",
        "plt.title(\"Resíduos - SGDRegressor\")\n",
        "plt.legend()\n",
        "plt.tight_layout()\n",
        "plt.show()"
      ]
    },
    {
      "cell_type": "markdown",
      "metadata": {},
      "source": [
        "Os resíduos **não estão aleatoriamente distribuídos ao redor de 0**, como evidenciado pelo padrão em forma de \"U\" no gráfico.\n",
        "\n",
        "Isso indica que o modelo linear com `SGDRegressor` **não está capturando adequadamente a relação entre os preditores e a variável resposta** (`sales`). Há sinais claros de **comportamento não linear**, o que viola uma das principais suposições da regressão linear.\n",
        "\n",
        "> **Conclusão:** o modelo apresenta indícios de subajuste (underfitting) e poderia ser melhorado com transformações polinomiais ou uso de modelos não lineares.\n"
      ]
    },
    {
      "cell_type": "markdown",
      "metadata": {},
      "source": [
        "##### Calcular os valores p para os preditores utilizados no modelo de regressão. Utilize [esse link](https://stackoverflow.com/a/42677750) como referência. Utilizar essa técnica para selecionar variáveis preditivas. Comparar o desempenho do modelo construído a partir de variáveis preditivas com melhores valores p com um modelo que contêm todas as variáveis."
      ]
    },
    {
      "cell_type": "code",
      "execution_count": 42,
      "metadata": {},
      "outputs": [
        {
          "name": "stdout",
          "output_type": "stream",
          "text": [
            "                            OLS Regression Results                            \n",
            "==============================================================================\n",
            "Dep. Variable:                  sales   R-squared:                       0.897\n",
            "Model:                            OLS   Adj. R-squared:                  0.896\n",
            "Method:                 Least Squares   F-statistic:                     570.3\n",
            "Date:                Thu, 26 Jun 2025   Prob (F-statistic):           1.58e-96\n",
            "Time:                        15:52:28   Log-Likelihood:                -386.18\n",
            "No. Observations:                 200   AIC:                             780.4\n",
            "Df Residuals:                     196   BIC:                             793.6\n",
            "Df Model:                           3                                         \n",
            "Covariance Type:            nonrobust                                         \n",
            "==============================================================================\n",
            "                 coef    std err          t      P>|t|      [0.025      0.975]\n",
            "------------------------------------------------------------------------------\n",
            "const          2.9389      0.312      9.422      0.000       2.324       3.554\n",
            "TV             0.0458      0.001     32.809      0.000       0.043       0.049\n",
            "radio          0.1885      0.009     21.893      0.000       0.172       0.206\n",
            "newspaper     -0.0010      0.006     -0.177      0.860      -0.013       0.011\n",
            "==============================================================================\n",
            "Omnibus:                       60.414   Durbin-Watson:                   2.084\n",
            "Prob(Omnibus):                  0.000   Jarque-Bera (JB):              151.241\n",
            "Skew:                          -1.327   Prob(JB):                     1.44e-33\n",
            "Kurtosis:                       6.332   Cond. No.                         454.\n",
            "==============================================================================\n",
            "\n",
            "Notes:\n",
            "[1] Standard Errors assume that the covariance matrix of the errors is correctly specified.\n"
          ]
        }
      ],
      "source": [
        "import pandas as pd\n",
        "import numpy as np\n",
        "from sklearn import datasets, linear_model\n",
        "from sklearn.linear_model import LinearRegression\n",
        "import statsmodels.api as sm\n",
        "from scipy import stats\n",
        "\n",
        "X = df_advertising[['TV', 'radio', 'newspaper']]\n",
        "y = df_advertising['sales']\n",
        "\n",
        "X2 = sm.add_constant(X)\n",
        "est = sm.OLS(y, X2)\n",
        "est2 = est.fit()\n",
        "print(est2.summary())"
      ]
    },
    {
      "cell_type": "code",
      "execution_count": 43,
      "metadata": {},
      "outputs": [
        {
          "name": "stdout",
          "output_type": "stream",
          "text": [
            "Modelo Completo:\n",
            "R²: 0.8972106381789522\n",
            "MSE: 2.784126314510936\n",
            "\n",
            "Modelo Reduzido (TV + radio):\n",
            "R²: 0.8971942610828957\n",
            "MSE: 2.784569900338091\n"
          ]
        }
      ],
      "source": [
        "X_full = df_advertising[['TV', 'radio', 'newspaper']]\n",
        "model_full = LinearRegression().fit(X_full, y)\n",
        "y_pred_full = model_full.predict(X_full)\n",
        "\n",
        "X_sig = df_advertising[['TV', 'radio']]\n",
        "model_sig = LinearRegression().fit(X_sig, y)\n",
        "y_pred_sig = model_sig.predict(X_sig)\n",
        "\n",
        "print(\"Modelo Completo:\")\n",
        "print(\"R²:\", r2_score(y, y_pred_full))\n",
        "print(\"MSE:\", mean_squared_error(y, y_pred_full))\n",
        "\n",
        "print(\"\\nModelo Reduzido (TV + radio):\")\n",
        "print(\"R²:\", r2_score(y, y_pred_sig))\n",
        "print(\"MSE:\", mean_squared_error(y, y_pred_sig))"
      ]
    },
    {
      "cell_type": "markdown",
      "metadata": {},
      "source": [
        "O valor-p (`P>|t|`) indica se o coeficiente de uma variável é estatisticamente diferente de zero. Quanto menor o valor-p (idealmente **< 0.05**), maior a evidência de que o preditor tem influência significativa na variável resposta.\n",
        "\n",
        "Na regressão com `statsmodels`, obtivemos:\n",
        "\n",
        "- `TV` (p ≈ 0.000): **significativo**\n",
        "- `radio` (p ≈ 0.000): **significativo**\n",
        "- `newspaper` (p = 0.860): **não significativo**\n",
        "\n",
        "Com base nisso, construímos dois modelos:\n",
        "\n",
        "**Modelo Completo** (`TV`, `radio`, `newspaper`)\n",
        "- **R²:** 0.897\n",
        "- **MSE:** 2.784\n",
        "\n",
        "\n",
        "**Modelo Reduzido** (`TV`, `radio`)\n",
        "- **R²:** 0.897\n",
        "- **MSE:** 2.785\n",
        "\n",
        "**Conclusão**\n",
        "\n",
        "Remover o preditor `newspaper` (que tem valor-p alto) **não afetou o desempenho do modelo**, que manteve o mesmo poder explicativo. Portanto, `TV` e `radio` são suficientes para explicar `sales`, resultando em um modelo mais enxuto e eficaz.\n",
        "\n"
      ]
    },
    {
      "cell_type": "markdown",
      "metadata": {
        "id": "ZzndloGEEkGT"
      },
      "source": [
        "#### Realizar o teste para descobrir multicolinearidade entre variáveis preditivas;\n",
        "\n",
        "Utilizando [esse link](https://www.geeksforgeeks.org/detecting-multicollinearity-with-vif-python/) fazer o cáclulo do fator de inflação da variância (*Variance Inflation Factor - VIF*). Existe alguma evidência de multicolinearidade entre as variáveis preditivas?"
      ]
    },
    {
      "cell_type": "code",
      "execution_count": 44,
      "metadata": {
        "id": "o0RhWsYCEkGU"
      },
      "outputs": [
        {
          "name": "stdout",
          "output_type": "stream",
          "text": [
            "    Variável       VIF\n",
            "0      const  6.848900\n",
            "1         TV  1.004611\n",
            "2      radio  1.144952\n",
            "3  newspaper  1.145187\n"
          ]
        }
      ],
      "source": [
        "\n",
        "\n",
        "X_vif = add_constant(df_advertising[['TV', 'radio', 'newspaper']])\n",
        "\n",
        "# Cálculo dos VIFs\n",
        "vif_data = pd.DataFrame()\n",
        "vif_data['Variável'] = X_vif.columns\n",
        "vif_data['VIF'] = [variance_inflation_factor(X_vif.values, i) for i in range(X_vif.shape[1])]\n",
        "\n",
        "print(vif_data)\n"
      ]
    },
    {
      "cell_type": "markdown",
      "metadata": {},
      "source": [
        "> Todos os valores de VIF estão **bem abaixo de 5**, indicando **ausência de multicolinearidade significativa** entre os preditores.\n",
        "Não há evidências de que os preditores estejam linearmente correlacionados entre si de forma preocupante. O modelo é estável com relação à multicolinearidade.\n"
      ]
    }
  ],
  "metadata": {
    "colab": {
      "provenance": []
    },
    "kernelspec": {
      "display_name": ".venv",
      "language": "python",
      "name": "python3"
    },
    "language_info": {
      "codemirror_mode": {
        "name": "ipython",
        "version": 3
      },
      "file_extension": ".py",
      "mimetype": "text/x-python",
      "name": "python",
      "nbconvert_exporter": "python",
      "pygments_lexer": "ipython3",
      "version": "3.9.16"
    }
  },
  "nbformat": 4,
  "nbformat_minor": 0
}
